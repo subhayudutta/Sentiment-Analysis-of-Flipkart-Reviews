{
 "cells": [
  {
   "cell_type": "code",
   "execution_count": 6,
   "metadata": {},
   "outputs": [],
   "source": [
    "import pandas as pd\n",
    "import seaborn as sns "
   ]
  },
  {
   "cell_type": "code",
   "execution_count": 3,
   "metadata": {},
   "outputs": [
    {
     "data": {
      "text/html": [
       "<div>\n",
       "<style scoped>\n",
       "    .dataframe tbody tr th:only-of-type {\n",
       "        vertical-align: middle;\n",
       "    }\n",
       "\n",
       "    .dataframe tbody tr th {\n",
       "        vertical-align: top;\n",
       "    }\n",
       "\n",
       "    .dataframe thead th {\n",
       "        text-align: right;\n",
       "    }\n",
       "</style>\n",
       "<table border=\"1\" class=\"dataframe\">\n",
       "  <thead>\n",
       "    <tr style=\"text-align: right;\">\n",
       "      <th></th>\n",
       "      <th>Unnamed: 0</th>\n",
       "      <th>Product_name</th>\n",
       "      <th>Review</th>\n",
       "      <th>Rating</th>\n",
       "    </tr>\n",
       "  </thead>\n",
       "  <tbody>\n",
       "    <tr>\n",
       "      <th>0</th>\n",
       "      <td>0</td>\n",
       "      <td>Lenovo Ideapad Gaming 3 Ryzen 5 Hexa Core 5600...</td>\n",
       "      <td>Best under 60k Great performanceI got it for a...</td>\n",
       "      <td>5</td>\n",
       "    </tr>\n",
       "    <tr>\n",
       "      <th>1</th>\n",
       "      <td>1</td>\n",
       "      <td>Lenovo Ideapad Gaming 3 Ryzen 5 Hexa Core 5600...</td>\n",
       "      <td>Good perfomence...</td>\n",
       "      <td>5</td>\n",
       "    </tr>\n",
       "    <tr>\n",
       "      <th>2</th>\n",
       "      <td>2</td>\n",
       "      <td>Lenovo Ideapad Gaming 3 Ryzen 5 Hexa Core 5600...</td>\n",
       "      <td>Great performance but usually it has also that...</td>\n",
       "      <td>5</td>\n",
       "    </tr>\n",
       "    <tr>\n",
       "      <th>3</th>\n",
       "      <td>3</td>\n",
       "      <td>DELL Inspiron Athlon Dual Core 3050U - (4 GB/2...</td>\n",
       "      <td>My wife is so happy and best product 👌🏻😘</td>\n",
       "      <td>5</td>\n",
       "    </tr>\n",
       "    <tr>\n",
       "      <th>4</th>\n",
       "      <td>4</td>\n",
       "      <td>DELL Inspiron Athlon Dual Core 3050U - (4 GB/2...</td>\n",
       "      <td>Light weight laptop with new amazing features,...</td>\n",
       "      <td>5</td>\n",
       "    </tr>\n",
       "  </tbody>\n",
       "</table>\n",
       "</div>"
      ],
      "text/plain": [
       "   Unnamed: 0                                       Product_name  \\\n",
       "0           0  Lenovo Ideapad Gaming 3 Ryzen 5 Hexa Core 5600...   \n",
       "1           1  Lenovo Ideapad Gaming 3 Ryzen 5 Hexa Core 5600...   \n",
       "2           2  Lenovo Ideapad Gaming 3 Ryzen 5 Hexa Core 5600...   \n",
       "3           3  DELL Inspiron Athlon Dual Core 3050U - (4 GB/2...   \n",
       "4           4  DELL Inspiron Athlon Dual Core 3050U - (4 GB/2...   \n",
       "\n",
       "                                              Review  Rating  \n",
       "0  Best under 60k Great performanceI got it for a...       5  \n",
       "1                                 Good perfomence...       5  \n",
       "2  Great performance but usually it has also that...       5  \n",
       "3           My wife is so happy and best product 👌🏻😘       5  \n",
       "4  Light weight laptop with new amazing features,...       5  "
      ]
     },
     "execution_count": 3,
     "metadata": {},
     "output_type": "execute_result"
    }
   ],
   "source": [
    "df=pd.read_csv(\"flipkart.csv\")\n",
    "df.head()"
   ]
  },
  {
   "cell_type": "code",
   "execution_count": 5,
   "metadata": {},
   "outputs": [
    {
     "data": {
      "text/plain": [
       "array([5, 4, 3, 2, 1], dtype=int64)"
      ]
     },
     "execution_count": 5,
     "metadata": {},
     "output_type": "execute_result"
    }
   ],
   "source": [
    "pd.unique(df['Rating'])"
   ]
  },
  {
   "cell_type": "code",
   "execution_count": 7,
   "metadata": {},
   "outputs": [
    {
     "data": {
      "text/plain": [
       "<Axes: xlabel='Rating', ylabel='count'>"
      ]
     },
     "execution_count": 7,
     "metadata": {},
     "output_type": "execute_result"
    },
    {
     "data": {
      "image/png": "[encoded data removed]",
      "text/plain": [
       "<Figure size 640x480 with 1 Axes>"
      ]
     },
     "metadata": {},
     "output_type": "display_data"
    }
   ],
   "source": [
    "sns.countplot(data=df, \n",
    "              x='Rating', \n",
    "              order=df.Rating.value_counts().index)"
   ]
  },
  {
   "cell_type": "code",
   "execution_count": 8,
   "metadata": {},
   "outputs": [],
   "source": [
    "pos_neu_neg = [] \n",
    "for i in range(len(df['Rating'])): \n",
    "    if df['Rating'][i] >= 4: \n",
    "        pos_neu_neg.append(2) \n",
    "    elif df['Rating'][i] == 3:\n",
    "        pos_neu_neg.append(1)  \n",
    "    else: \n",
    "        pos_neu_neg.append(0) \n",
    "  \n",
    "df['label'] = pos_neu_neg "
   ]
  },
  {
   "cell_type": "code",
   "execution_count": 9,
   "metadata": {},
   "outputs": [
    {
     "data": {
      "text/html": [
       "<div>\n",
       "<style scoped>\n",
       "    .dataframe tbody tr th:only-of-type {\n",
       "        vertical-align: middle;\n",
       "    }\n",
       "\n",
       "    .dataframe tbody tr th {\n",
       "        vertical-align: top;\n",
       "    }\n",
       "\n",
       "    .dataframe thead th {\n",
       "        text-align: right;\n",
       "    }\n",
       "</style>\n",
       "<table border=\"1\" class=\"dataframe\">\n",
       "  <thead>\n",
       "    <tr style=\"text-align: right;\">\n",
       "      <th></th>\n",
       "      <th>Unnamed: 0</th>\n",
       "      <th>Product_name</th>\n",
       "      <th>Review</th>\n",
       "      <th>Rating</th>\n",
       "      <th>label</th>\n",
       "    </tr>\n",
       "  </thead>\n",
       "  <tbody>\n",
       "    <tr>\n",
       "      <th>0</th>\n",
       "      <td>0</td>\n",
       "      <td>Lenovo Ideapad Gaming 3 Ryzen 5 Hexa Core 5600...</td>\n",
       "      <td>Best under 60k Great performanceI got it for a...</td>\n",
       "      <td>5</td>\n",
       "      <td>2</td>\n",
       "    </tr>\n",
       "    <tr>\n",
       "      <th>1</th>\n",
       "      <td>1</td>\n",
       "      <td>Lenovo Ideapad Gaming 3 Ryzen 5 Hexa Core 5600...</td>\n",
       "      <td>Good perfomence...</td>\n",
       "      <td>5</td>\n",
       "      <td>2</td>\n",
       "    </tr>\n",
       "    <tr>\n",
       "      <th>2</th>\n",
       "      <td>2</td>\n",
       "      <td>Lenovo Ideapad Gaming 3 Ryzen 5 Hexa Core 5600...</td>\n",
       "      <td>Great performance but usually it has also that...</td>\n",
       "      <td>5</td>\n",
       "      <td>2</td>\n",
       "    </tr>\n",
       "    <tr>\n",
       "      <th>3</th>\n",
       "      <td>3</td>\n",
       "      <td>DELL Inspiron Athlon Dual Core 3050U - (4 GB/2...</td>\n",
       "      <td>My wife is so happy and best product 👌🏻😘</td>\n",
       "      <td>5</td>\n",
       "      <td>2</td>\n",
       "    </tr>\n",
       "    <tr>\n",
       "      <th>4</th>\n",
       "      <td>4</td>\n",
       "      <td>DELL Inspiron Athlon Dual Core 3050U - (4 GB/2...</td>\n",
       "      <td>Light weight laptop with new amazing features,...</td>\n",
       "      <td>5</td>\n",
       "      <td>2</td>\n",
       "    </tr>\n",
       "  </tbody>\n",
       "</table>\n",
       "</div>"
      ],
      "text/plain": [
       "   Unnamed: 0                                       Product_name  \\\n",
       "0           0  Lenovo Ideapad Gaming 3 Ryzen 5 Hexa Core 5600...   \n",
       "1           1  Lenovo Ideapad Gaming 3 Ryzen 5 Hexa Core 5600...   \n",
       "2           2  Lenovo Ideapad Gaming 3 Ryzen 5 Hexa Core 5600...   \n",
       "3           3  DELL Inspiron Athlon Dual Core 3050U - (4 GB/2...   \n",
       "4           4  DELL Inspiron Athlon Dual Core 3050U - (4 GB/2...   \n",
       "\n",
       "                                              Review  Rating  label  \n",
       "0  Best under 60k Great performanceI got it for a...       5      2  \n",
       "1                                 Good perfomence...       5      2  \n",
       "2  Great performance but usually it has also that...       5      2  \n",
       "3           My wife is so happy and best product 👌🏻😘       5      2  \n",
       "4  Light weight laptop with new amazing features,...       5      2  "
      ]
     },
     "execution_count": 9,
     "metadata": {},
     "output_type": "execute_result"
    }
   ],
   "source": [
    "df.head()"
   ]
  },
  {
   "cell_type": "code",
   "execution_count": 10,
   "metadata": {},
   "outputs": [
    {
     "data": {
      "text/plain": [
       "<Axes: xlabel='label', ylabel='count'>"
      ]
     },
     "execution_count": 10,
     "metadata": {},
     "output_type": "execute_result"
    },
    {
     "data": {
      "image/png": "[encoded data removed]",
      "text/plain": [
       "<Figure size 640x480 with 1 Axes>"
      ]
     },
     "metadata": {},
     "output_type": "display_data"
    }
   ],
   "source": [
    "sns.countplot(data=df, \n",
    "              x='label', \n",
    "              order=df.label.value_counts().index)"
   ]
  },
  {
   "cell_type": "code",
   "execution_count": 11,
   "metadata": {},
   "outputs": [
    {
     "data": {
      "text/html": [
       "<div>\n",
       "<style scoped>\n",
       "    .dataframe tbody tr th:only-of-type {\n",
       "        vertical-align: middle;\n",
       "    }\n",
       "\n",
       "    .dataframe tbody tr th {\n",
       "        vertical-align: top;\n",
       "    }\n",
       "\n",
       "    .dataframe thead th {\n",
       "        text-align: right;\n",
       "    }\n",
       "</style>\n",
       "<table border=\"1\" class=\"dataframe\">\n",
       "  <thead>\n",
       "    <tr style=\"text-align: right;\">\n",
       "      <th></th>\n",
       "      <th>Review</th>\n",
       "      <th>Rating</th>\n",
       "      <th>label</th>\n",
       "    </tr>\n",
       "  </thead>\n",
       "  <tbody>\n",
       "    <tr>\n",
       "      <th>0</th>\n",
       "      <td>Best under 60k Great performanceI got it for a...</td>\n",
       "      <td>5</td>\n",
       "      <td>2</td>\n",
       "    </tr>\n",
       "    <tr>\n",
       "      <th>1</th>\n",
       "      <td>Good perfomence...</td>\n",
       "      <td>5</td>\n",
       "      <td>2</td>\n",
       "    </tr>\n",
       "    <tr>\n",
       "      <th>2</th>\n",
       "      <td>Great performance but usually it has also that...</td>\n",
       "      <td>5</td>\n",
       "      <td>2</td>\n",
       "    </tr>\n",
       "    <tr>\n",
       "      <th>3</th>\n",
       "      <td>My wife is so happy and best product 👌🏻😘</td>\n",
       "      <td>5</td>\n",
       "      <td>2</td>\n",
       "    </tr>\n",
       "    <tr>\n",
       "      <th>4</th>\n",
       "      <td>Light weight laptop with new amazing features,...</td>\n",
       "      <td>5</td>\n",
       "      <td>2</td>\n",
       "    </tr>\n",
       "    <tr>\n",
       "      <th>...</th>\n",
       "      <td>...</td>\n",
       "      <td>...</td>\n",
       "      <td>...</td>\n",
       "    </tr>\n",
       "    <tr>\n",
       "      <th>2299</th>\n",
       "      <td>Great display, accurate colours at this price ...</td>\n",
       "      <td>5</td>\n",
       "      <td>2</td>\n",
       "    </tr>\n",
       "    <tr>\n",
       "      <th>2300</th>\n",
       "      <td>Superb monitor first brought 1 used for 2 mont...</td>\n",
       "      <td>5</td>\n",
       "      <td>2</td>\n",
       "    </tr>\n",
       "    <tr>\n",
       "      <th>2301</th>\n",
       "      <td>Awesome</td>\n",
       "      <td>5</td>\n",
       "      <td>2</td>\n",
       "    </tr>\n",
       "    <tr>\n",
       "      <th>2302</th>\n",
       "      <td>Only one issue with adapter</td>\n",
       "      <td>5</td>\n",
       "      <td>2</td>\n",
       "    </tr>\n",
       "    <tr>\n",
       "      <th>2303</th>\n",
       "      <td>Worth the money u spend for this monitor Great...</td>\n",
       "      <td>5</td>\n",
       "      <td>2</td>\n",
       "    </tr>\n",
       "  </tbody>\n",
       "</table>\n",
       "<p>2304 rows × 3 columns</p>\n",
       "</div>"
      ],
      "text/plain": [
       "                                                 Review  Rating  label\n",
       "0     Best under 60k Great performanceI got it for a...       5      2\n",
       "1                                    Good perfomence...       5      2\n",
       "2     Great performance but usually it has also that...       5      2\n",
       "3              My wife is so happy and best product 👌🏻😘       5      2\n",
       "4     Light weight laptop with new amazing features,...       5      2\n",
       "...                                                 ...     ...    ...\n",
       "2299  Great display, accurate colours at this price ...       5      2\n",
       "2300  Superb monitor first brought 1 used for 2 mont...       5      2\n",
       "2301                                            Awesome       5      2\n",
       "2302                        Only one issue with adapter       5      2\n",
       "2303  Worth the money u spend for this monitor Great...       5      2\n",
       "\n",
       "[2304 rows x 3 columns]"
      ]
     },
     "execution_count": 11,
     "metadata": {},
     "output_type": "execute_result"
    }
   ],
   "source": [
    "df=df.drop(columns=['Unnamed: 0', 'Product_name'])\n",
    "df"
   ]
  },
  {
   "cell_type": "code",
   "execution_count": null,
   "metadata": {},
   "outputs": [],
   "source": []
  }
 ],
 "metadata": {
  "kernelspec": {
   "display_name": "review",
   "language": "python",
   "name": "python3"
  },
  "language_info": {
   "codemirror_mode": {
    "name": "ipython",
    "version": 3
   },
   "file_extension": ".py",
   "mimetype": "text/x-python",
   "name": "python",
   "nbconvert_exporter": "python",
   "pygments_lexer": "ipython3",
   "version": "3.12.3"
  }
 },
 "nbformat": 4,
 "nbformat_minor": 2
}
